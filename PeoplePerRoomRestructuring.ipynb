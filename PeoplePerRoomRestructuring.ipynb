{
  "nbformat": 4,
  "nbformat_minor": 0,
  "metadata": {
    "colab": {
      "provenance": [],
      "authorship_tag": "ABX9TyNhtpbQK+wSEOA1M4kgNRLf",
      "include_colab_link": true
    },
    "kernelspec": {
      "name": "python3",
      "display_name": "Python 3"
    },
    "language_info": {
      "name": "python"
    }
  },
  "cells": [
    {
      "cell_type": "markdown",
      "metadata": {
        "id": "view-in-github",
        "colab_type": "text"
      },
      "source": [
        "<a href=\"https://colab.research.google.com/github/AmonTonui/Final_Year_Project/blob/main/PeoplePerRoomRestructuring.ipynb\" target=\"_parent\"><img src=\"https://colab.research.google.com/assets/colab-badge.svg\" alt=\"Open In Colab\"/></a>"
      ]
    },
    {
      "cell_type": "markdown",
      "source": [
        "Data Preprocessing of the dataset"
      ],
      "metadata": {
        "id": "esISD6hg8xdP"
      }
    },
    {
      "cell_type": "code",
      "execution_count": null,
      "metadata": {
        "colab": {
          "base_uri": "https://localhost:8080/"
        },
        "id": "Ms2X0HJD2kCg",
        "outputId": "cdf7f2b3-f8d0-42b0-926f-67674c4c82d8"
      },
      "outputs": [
        {
          "output_type": "stream",
          "name": "stdout",
          "text": [
            "Data has been saved to normalized_data.csv\n"
          ]
        }
      ],
      "source": [
        "import pandas as pd\n",
        "\n",
        "data = pd.read_csv('socialstatus.csv')\n",
        "\n",
        "# Remove the category which includes 0 observations(-8)\n",
        "data = data[data['Number of people per room in household (5 categories) Code'] != -8]\n",
        "\n",
        "#Creation of a pivot table to make each constituency a row and categories as columns, gettiing the sum of observations for each constituency that appeared multiple time in the original dataset\n",
        "data_pivoted = data.pivot_table(index='Westminster Parliamentary constituencies', columns='Number of people per room in household (5 categories)', values='Observation', aggfunc='sum').reset_index()\n",
        "\n",
        "#Normalize the data by dividing the observation count in a category by the total observation count in that constituency\n",
        "category_columns = data_pivoted.columns[1:] #Excludes the first column(Westminster Parliamentary constituencies Code)\n",
        "data_pivoted[category_columns] = data_pivoted[category_columns].div(data_pivoted[category_columns].sum(axis=1), axis=0)\n",
        "\n",
        "# Fill missing values with 0, however there was no missing observations they were already handled by ONS by categorizing them as (-8)\n",
        "data_pivoted.fillna(0, inplace=True)\n",
        "\n",
        "output_file = 'normalized_data.csv'\n",
        "data_pivoted.to_csv(output_file, index=False)\n",
        "\n",
        "print(f\"Normalized Data has been saved to {output_file}\")"
      ]
    },
    {
      "cell_type": "code",
      "source": [],
      "metadata": {
        "id": "U0bv-NkG95R-"
      },
      "execution_count": null,
      "outputs": []
    }
  ]
}