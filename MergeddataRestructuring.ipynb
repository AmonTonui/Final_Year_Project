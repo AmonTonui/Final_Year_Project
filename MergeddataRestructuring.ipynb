{
  "nbformat": 4,
  "nbformat_minor": 0,
  "metadata": {
    "colab": {
      "provenance": [],
      "authorship_tag": "ABX9TyMuEUV2YfrAaC3tz7lEw8jt",
      "include_colab_link": true
    },
    "kernelspec": {
      "name": "python3",
      "display_name": "Python 3"
    },
    "language_info": {
      "name": "python"
    }
  },
  "cells": [
    {
      "cell_type": "markdown",
      "metadata": {
        "id": "view-in-github",
        "colab_type": "text"
      },
      "source": [
        "<a href=\"https://colab.research.google.com/github/AmonTonui/Final_Year_Project/blob/main/MergeddataRestructuring.ipynb\" target=\"_parent\"><img src=\"https://colab.research.google.com/assets/colab-badge.svg\" alt=\"Open In Colab\"/></a>"
      ]
    },
    {
      "cell_type": "markdown",
      "source": [
        "Data Cleaning and Restructuring of the Merged(Education Level and People per room) ONS Dataset"
      ],
      "metadata": {
        "id": "OPboGZcszKVv"
      }
    },
    {
      "cell_type": "code",
      "execution_count": null,
      "metadata": {
        "colab": {
          "base_uri": "https://localhost:8080/"
        },
        "id": "3uj4z5Ica7L_",
        "outputId": "d9227b59-9618-4518-e7c7-57f6df602a76"
      },
      "outputs": [
        {
          "output_type": "stream",
          "name": "stdout",
          "text": [
            "Preprocessed data saved to final_correctly_normalized_data.csv\n"
          ]
        }
      ],
      "source": [
        "\n",
        "import pandas as pd\n",
        "\n",
        "data = pd.read_csv(\"mergedset.csv\")\n",
        "\n",
        "# Remove the category which includes 0 observations(-8)\n",
        "data = data[(data['Number of people per room in household (5 categories) Code'] != -8) &\n",
        "            (data['Highest level of qualification (7 categories) Code'] != -8)]\n",
        "\n",
        "# Calculate total observations per constituency and group the data by constituencies\n",
        "total_observations = data.groupby('Westminster Parliamentary constituencies')['Observation'].sum().reset_index()\n",
        "total_observations.rename(columns={'Observation': 'Total Constituency Observations'}, inplace=True)\n",
        "\n",
        "# After calculating the total observations, Merge total observations into original dataset to its respective constituency which will be used to divide the number of observations for each constituency(Normalize)\n",
        "data = data.merge(total_observations, on='Westminster Parliamentary constituencies')\n",
        "\n",
        "# Normalize each category observations using total observations for each constituency\n",
        "data['Normalized Observation'] = data['Observation'] / data['Total Constituency Observations']\n",
        "\n",
        "# Drop unnecessary columns (observation and total constituency observations). We only need the normalized observations per constituency\n",
        "data.drop(columns=['Observation', 'Total Constituency Observations'], inplace=True)\n",
        "\n",
        "# Pivot the dataset to have features as separate columns and the constituencies as the rows to analyse the results appropriately\n",
        "pivoted_data = data.pivot_table(\n",
        "    index='Westminster Parliamentary constituencies',\n",
        "    columns=['Number of people per room in household (5 categories)', 'Highest level of qualification (7 categories)'],\n",
        "    values='Normalized Observation',\n",
        "    aggfunc='sum'\n",
        ").reset_index()\n",
        "\n",
        "# Fill missing values with 0, however there was no missing observations they were already handled by ONS by categorizing them as (-8)\n",
        "pivoted_data.fillna(0, inplace=True)\n",
        "\n",
        "# Save the preprocessed dataset\n",
        "output_file = \"Mergednormalized_data.csv\"\n",
        "pivoted_data.to_csv(output_file, index=False)\n",
        "\n",
        "print(f\"Preprocessed data saved to {output_file}\")\n",
        "\n"
      ]
    },
    {
      "cell_type": "code",
      "source": [],
      "metadata": {
        "id": "CNM9s0BJea4o"
      },
      "execution_count": null,
      "outputs": []
    }
  ]
}