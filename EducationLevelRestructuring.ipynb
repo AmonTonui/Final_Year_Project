{
  "nbformat": 4,
  "nbformat_minor": 0,
  "metadata": {
    "colab": {
      "provenance": [],
      "authorship_tag": "ABX9TyPoQqtwhpRkdigweremqsPP",
      "include_colab_link": true
    },
    "kernelspec": {
      "name": "python3",
      "display_name": "Python 3"
    },
    "language_info": {
      "name": "python"
    }
  },
  "cells": [
    {
      "cell_type": "markdown",
      "metadata": {
        "id": "view-in-github",
        "colab_type": "text"
      },
      "source": [
        "<a href=\"https://colab.research.google.com/github/AmonTonui/Final_Year_Project/blob/main/EducationLevelRestructuring.ipynb\" target=\"_parent\"><img src=\"https://colab.research.google.com/assets/colab-badge.svg\" alt=\"Open In Colab\"/></a>"
      ]
    },
    {
      "cell_type": "markdown",
      "source": [
        "Data Preprocessing"
      ],
      "metadata": {
        "id": "-Y8hHl_vGOfF"
      }
    },
    {
      "cell_type": "code",
      "execution_count": null,
      "metadata": {
        "colab": {
          "base_uri": "https://localhost:8080/"
        },
        "id": "VhE3VefeF_rA",
        "outputId": "67b9cfb6-ee4f-4c0a-98b2-205a995dc49d"
      },
      "outputs": [
        {
          "output_type": "stream",
          "name": "stdout",
          "text": [
            "Data has been saved to educationnormalized_data.csv\n"
          ]
        }
      ],
      "source": [
        "import pandas as pd\n",
        "\n",
        "data = pd.read_csv('EducationLevel.csv')\n",
        "# Remove the category which includes 0 observations(-8)\n",
        "data = data[data['Highest level of qualification (7 categories) Code'] != -8]\n",
        "\n",
        "#Creation of a pivot table to make each constituency a row and categories as columns, gettiing the sum of observations for each constituency that appeared multiple time in the original dataset\n",
        "data_pivoted = data.pivot_table(index='Westminster Parliamentary constituencies', columns='Highest level of qualification (7 categories)', values='Observation', aggfunc='sum').reset_index()\n",
        "\n",
        "#Normalize the data\n",
        "category_columns = data_pivoted.columns[1:] # All columns except the constituencies one.\n",
        "data_pivoted[category_columns] = data_pivoted[category_columns].div(data_pivoted[category_columns].sum(axis=1), axis=0) #Divides the observations for each category by the sum of total observations in each constituency\n",
        "\n",
        "\n",
        "# Fill missing values with 0, however there was no missing observations they were already handled by ONS by categorizing them as (-8)\n",
        "data_pivoted.fillna(0, inplace=True)\n",
        "\n",
        "output_file = 'educationnormalized_data.csv'\n",
        "data_pivoted.to_csv(output_file, index=False)\n",
        "\n",
        "print(f\"Normalized Data has been saved to {output_file}\")"
      ]
    }
  ]
}